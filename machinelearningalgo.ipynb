{
 "cells": [
  {
   "cell_type": "code",
   "execution_count": null,
   "id": "8610a64e",
   "metadata": {},
   "outputs": [],
   "source": [
    "import pandas as pd\n",
    "import numpy as np\n",
    "from pathlib import Path\n",
    "import hvplot.pandas\n",
    "import matplotlib.pyplot as plt\n",
    "from sklearn import svm\n",
    "from sklearn.preprocessing import StandardScaler\n",
    "from pandas.tseries.offsets import DateOffset\n",
    "from sklearn.metrics import classification_report"
   ]
  },
  {
   "cell_type": "code",
   "execution_count": null,
   "id": "a95e38c6",
   "metadata": {},
   "outputs": [],
   "source": [
    "signals_df =  API VARI [:, [\"close\"]]            ## API CALL\n",
    "\n",
    "\n",
    "signals_df[\"Actual Returns\"] = signals_df[\"close\"].pct_change()\n",
    "\n",
    "\n",
    "signals_df = signals_df.dropna()"
   ]
  },
  {
   "cell_type": "code",
   "execution_count": null,
   "id": "06a015e0",
   "metadata": {},
   "outputs": [],
   "source": [
    "short_window = 14\n",
    "long_window = 30                 ## Setting the SMAs for the strategy \n",
    "\n",
    "\n",
    "signals_df['SMA_Fast'] = signals_df['close'].rolling(window=short_window).mean()\n",
    "signals_df['SMA_Slow'] = signals_df['close'].rolling(window=long_window).mean()\n",
    "\n",
    "signals_df = signals_df.dropna()"
   ]
  },
  {
   "cell_type": "code",
   "execution_count": null,
   "id": "5488dfef",
   "metadata": {},
   "outputs": [],
   "source": [
    "signals_df['Signal'] = 0.0\n",
    "\n",
    "# When Actual Returns are greater than or equal to 0, generate signal to buy stock long\n",
    "signals_df.loc[(signals_df['Actual Returns'] >= 0), 'Signal'] = 1\n",
    "\n",
    "# When Actual Returns are less than 0, generate signal to sell stock short\n",
    "signals_df.loc[(signals_df['Actual Returns'] < 0), 'Signal'] = -1"
   ]
  },
  {
   "cell_type": "code",
   "execution_count": null,
   "id": "0b4814d9",
   "metadata": {},
   "outputs": [],
   "source": [
    "signals_df['Signal'].value_counts()"
   ]
  },
  {
   "cell_type": "code",
   "execution_count": null,
   "id": "b0289d14",
   "metadata": {},
   "outputs": [],
   "source": [
    "signals_df['Strategy Returns'] = signals_df['Actual Returns'] * signals_df['Signal'].shift()"
   ]
  },
  {
   "cell_type": "code",
   "execution_count": null,
   "id": "de9b064b",
   "metadata": {},
   "outputs": [],
   "source": [
    "(1 + signals_df['Strategy Returns']).cumprod().plot()   ## plotted returns to make sure we are doing ok \n"
   ]
  },
  {
   "cell_type": "code",
   "execution_count": null,
   "id": "712bf5b0",
   "metadata": {},
   "outputs": [],
   "source": [
    "X = signals_df[['SMA_Fast', 'SMA_Slow']].shift().dropna()    ## adding the X for machine learning "
   ]
  },
  {
   "cell_type": "code",
   "execution_count": null,
   "id": "e0331240",
   "metadata": {},
   "outputs": [],
   "source": [
    "y = signals_df['Signal']\n",
    "\n",
    "# Review the value counts\n",
    "y.value_counts()"
   ]
  },
  {
   "cell_type": "code",
   "execution_count": null,
   "id": "86509e71",
   "metadata": {},
   "outputs": [],
   "source": [
    "training_begin = X.index.min()"
   ]
  },
  {
   "cell_type": "code",
   "execution_count": null,
   "id": "a95eb9ff",
   "metadata": {},
   "outputs": [],
   "source": [
    "training_end = X.index.min() + DateOffset(months=6) "
   ]
  },
  {
   "cell_type": "code",
   "execution_count": null,
   "id": "6c987b37",
   "metadata": {},
   "outputs": [],
   "source": [
    "X_train = X.loc[training_begin:training_end]\n",
    "y_train = y.loc[training_begin:training_end]"
   ]
  },
  {
   "cell_type": "code",
   "execution_count": null,
   "id": "7d6acecb",
   "metadata": {},
   "outputs": [],
   "source": [
    "X_test = X.loc[training_end+DateOffset(hours=1):]\n",
    "y_test = y.loc[training_end+DateOffset(hours=1):]"
   ]
  },
  {
   "cell_type": "code",
   "execution_count": null,
   "id": "f99edaf8",
   "metadata": {},
   "outputs": [],
   "source": [
    "scaler = StandardScaler()   ## Scaling the data \n",
    "\n",
    "\n",
    "X_scaler = scaler.fit(X_train)\n",
    "\n",
    "\n",
    "X_train_scaled = X_scaler.transform(X_train)\n",
    "X_test_scaled = X_scaler.transform(X_test)"
   ]
  },
  {
   "cell_type": "code",
   "execution_count": null,
   "id": "bb950621",
   "metadata": {},
   "outputs": [],
   "source": [
    "svm_model = svm.SVC()\n",
    " \n",
    "# Fit the model to the data using the training data\n",
    "svm_model = svm_model.fit(X_train_scaled, y_train)\n",
    " \n",
    "# Use the testing data to make the model predictions\n",
    "svm_pred = svm_model.predict(X_train_scaled)\n",
    "\n",
    "# Review the model's predicted values\n",
    "svm_pred[:10]"
   ]
  },
  {
   "cell_type": "code",
   "execution_count": null,
   "id": "4b0f67f4",
   "metadata": {},
   "outputs": [],
   "source": [
    "svm_testing_report = classification_report(y_train, svm_pred)\n",
    "\n",
    "# Print the classification report\n",
    "print(svm_testing_report)"
   ]
  },
  {
   "cell_type": "code",
   "execution_count": null,
   "id": "2c6ad9fa",
   "metadata": {},
   "outputs": [],
   "source": [
    "# Create a predictions DataFrame \n",
    "predictions_df =  pd.DataFrame(index=X_train.index)        ## used the index from X_train as the values were not matching up with X_test and we are just looking to match the index\n",
    "\n",
    "# Add the SVM model predictions to the DataFrame\n",
    "predictions_df['Predicted'] = svm_pred\n",
    "\n",
    "# Add the actual returns to the DataFrame\n",
    "predictions_df['Actual Returns'] = signals_df['Actual Returns']\n",
    "\n",
    "# Add the strategy returns to the DataFrame\n",
    "predictions_df['Strategy Returns'] = signals_df['Strategy Returns']"
   ]
  },
  {
   "cell_type": "code",
   "execution_count": null,
   "id": "c5bfe195",
   "metadata": {},
   "outputs": [],
   "source": [
    "(1 + predictions_df[[\"Actual Returns\", \"Strategy Returns\"]]).cumprod().plot()"
   ]
  }
 ],
 "metadata": {
  "kernelspec": {
   "display_name": "dev",
   "language": "python",
   "name": "dev"
  },
  "language_info": {
   "codemirror_mode": {
    "name": "ipython",
    "version": 3
   },
   "file_extension": ".py",
   "mimetype": "text/x-python",
   "name": "python",
   "nbconvert_exporter": "python",
   "pygments_lexer": "ipython3",
   "version": "3.7.10"
  }
 },
 "nbformat": 4,
 "nbformat_minor": 5
}
