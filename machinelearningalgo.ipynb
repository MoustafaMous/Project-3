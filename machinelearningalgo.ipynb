{
 "cells": [
  {
   "cell_type": "code",
   "execution_count": 24,
   "id": "8b66751a",
   "metadata": {},
   "outputs": [],
   "source": [
    "import pandas as pd\n",
    "import numpy as np\n",
    "from pathlib import Path\n",
    "import hvplot.pandas\n",
    "import matplotlib.pyplot as plt\n",
    "from sklearn import svm\n",
    "from sklearn.preprocessing import StandardScaler\n",
    "from pandas.tseries.offsets import DateOffset\n",
    "from sklearn.metrics import classification_report\n",
    "import requests \n",
    "from dotenv import load_dotenv\n",
    "import alpaca_trade_api as tradeapi\n",
    "import os\n",
    "%matplotlib inline"
   ]
  },
  {
   "cell_type": "code",
   "execution_count": 25,
   "id": "1de57cfb",
   "metadata": {},
   "outputs": [],
   "source": [
    "load_dotenv()\n",
    "alpaca_api_key = os.getenv(\"ALPACA_API_KEY\")\n",
    "alpaca_secret_key = os.getenv(\"ALPACA_SECRET_KEY\")"
   ]
  },
  {
   "cell_type": "code",
   "execution_count": 26,
   "id": "497094ed",
   "metadata": {},
   "outputs": [
    {
     "data": {
      "text/plain": [
       "str"
      ]
     },
     "metadata": {},
     "output_type": "display_data"
    },
    {
     "data": {
      "text/plain": [
       "str"
      ]
     },
     "metadata": {},
     "output_type": "display_data"
    }
   ],
   "source": [
    "display(type(alpaca_api_key))\n",
    "display(type(alpaca_secret_key))"
   ]
  },
  {
   "cell_type": "code",
   "execution_count": 27,
   "id": "f2e71d8a",
   "metadata": {},
   "outputs": [],
   "source": [
    "alpaca = tradeapi.REST(\n",
    "    alpaca_api_key,\n",
    "    alpaca_secret_key,\n",
    "    api_version=\"v2\")"
   ]
  },
  {
   "cell_type": "code",
   "execution_count": 28,
   "id": "6370fb0c",
   "metadata": {},
   "outputs": [],
   "source": [
    "ticker = [\"SPY\"]\n",
    "#set start and end dates\n",
    "start_date = pd.Timestamp(\"2020-11-22\", tz=\"America/New_York\").isoformat()\n",
    "end_date = pd.Timestamp(\"2021-11-22\", tz=\"America/New_York\").isoformat()\n",
    "# Set timeframe to one day (1D) for the Alpaca API\n",
    "timeframe = \"1D\"\n",
    "# Set number of rows to 1000 to retrieve the maximum amount of rows\n",
    "limit_rows = 1000"
   ]
  },
  {
   "cell_type": "code",
   "execution_count": 29,
   "id": "8fcdd1f4",
   "metadata": {},
   "outputs": [
    {
     "data": {
      "text/html": [
       "<div>\n",
       "<style scoped>\n",
       "    .dataframe tbody tr th:only-of-type {\n",
       "        vertical-align: middle;\n",
       "    }\n",
       "\n",
       "    .dataframe tbody tr th {\n",
       "        vertical-align: top;\n",
       "    }\n",
       "\n",
       "    .dataframe thead tr th {\n",
       "        text-align: left;\n",
       "    }\n",
       "\n",
       "    .dataframe thead tr:last-of-type th {\n",
       "        text-align: right;\n",
       "    }\n",
       "</style>\n",
       "<table border=\"1\" class=\"dataframe\">\n",
       "  <thead>\n",
       "    <tr>\n",
       "      <th></th>\n",
       "      <th colspan=\"5\" halign=\"left\">SPY</th>\n",
       "    </tr>\n",
       "    <tr>\n",
       "      <th></th>\n",
       "      <th>open</th>\n",
       "      <th>high</th>\n",
       "      <th>low</th>\n",
       "      <th>close</th>\n",
       "      <th>volume</th>\n",
       "    </tr>\n",
       "    <tr>\n",
       "      <th>time</th>\n",
       "      <th></th>\n",
       "      <th></th>\n",
       "      <th></th>\n",
       "      <th></th>\n",
       "      <th></th>\n",
       "    </tr>\n",
       "  </thead>\n",
       "  <tbody>\n",
       "    <tr>\n",
       "      <th>2020-11-23 00:00:00-05:00</th>\n",
       "      <td>357.28</td>\n",
       "      <td>358.790</td>\n",
       "      <td>354.865</td>\n",
       "      <td>357.47</td>\n",
       "      <td>49938331</td>\n",
       "    </tr>\n",
       "    <tr>\n",
       "      <th>2020-11-24 00:00:00-05:00</th>\n",
       "      <td>360.21</td>\n",
       "      <td>363.805</td>\n",
       "      <td>359.290</td>\n",
       "      <td>363.19</td>\n",
       "      <td>49862168</td>\n",
       "    </tr>\n",
       "    <tr>\n",
       "      <th>2020-11-25 00:00:00-05:00</th>\n",
       "      <td>363.13</td>\n",
       "      <td>363.160</td>\n",
       "      <td>361.480</td>\n",
       "      <td>362.65</td>\n",
       "      <td>35309156</td>\n",
       "    </tr>\n",
       "    <tr>\n",
       "      <th>2020-11-27 00:00:00-05:00</th>\n",
       "      <td>363.84</td>\n",
       "      <td>364.180</td>\n",
       "      <td>362.580</td>\n",
       "      <td>363.65</td>\n",
       "      <td>46840189</td>\n",
       "    </tr>\n",
       "    <tr>\n",
       "      <th>2020-11-30 00:00:00-05:00</th>\n",
       "      <td>362.83</td>\n",
       "      <td>363.120</td>\n",
       "      <td>359.170</td>\n",
       "      <td>362.00</td>\n",
       "      <td>67154075</td>\n",
       "    </tr>\n",
       "  </tbody>\n",
       "</table>\n",
       "</div>"
      ],
      "text/plain": [
       "                              SPY                                    \n",
       "                             open     high      low   close    volume\n",
       "time                                                                 \n",
       "2020-11-23 00:00:00-05:00  357.28  358.790  354.865  357.47  49938331\n",
       "2020-11-24 00:00:00-05:00  360.21  363.805  359.290  363.19  49862168\n",
       "2020-11-25 00:00:00-05:00  363.13  363.160  361.480  362.65  35309156\n",
       "2020-11-27 00:00:00-05:00  363.84  364.180  362.580  363.65  46840189\n",
       "2020-11-30 00:00:00-05:00  362.83  363.120  359.170  362.00  67154075"
      ]
     },
     "execution_count": 29,
     "metadata": {},
     "output_type": "execute_result"
    }
   ],
   "source": [
    "ticker_df = alpaca.get_barset(\n",
    "    ticker,\n",
    "    timeframe,\n",
    "    start = start_date,\n",
    "    end = end_date,\n",
    "    limit = limit_rows\n",
    ").df\n",
    "ticker_df.head()\n",
    "\n"
   ]
  },
  {
   "cell_type": "code",
   "execution_count": 30,
   "id": "97da17f0",
   "metadata": {},
   "outputs": [],
   "source": [
    "btc_df = pd.read_csv(\n",
    "    Path(\"./Resources/BTC-USD.csv\"), \n",
    "    index_col='Date', \n",
    "    infer_datetime_format=True, \n",
    "    parse_dates=True\n",
    ")\n",
    "signals_df = btc_df.loc[:, [\"Close\"]]\n",
    "signals_df[\"Actual Returns\"] = signals_df[\"Close\"].pct_change()\n",
    "signals_df = signals_df.dropna()\n"
   ]
  },
  {
   "cell_type": "code",
   "execution_count": 31,
   "id": "ff9ac58b",
   "metadata": {},
   "outputs": [],
   "source": [
    "short_window = 14\n",
    "long_window = 30                 ## Setting the SMAs for the strategy \n",
    "\n",
    "\n",
    "signals_df['SMA_Fast'] = signals_df['Close'].rolling(window=short_window).mean()\n",
    "signals_df['SMA_Slow'] = signals_df['Close'].rolling(window=long_window).mean()\n",
    "\n",
    "signals_df = signals_df.dropna()"
   ]
  },
  {
   "cell_type": "code",
   "execution_count": 32,
   "id": "e0c98bf9",
   "metadata": {},
   "outputs": [],
   "source": [
    "signals_df['Signal'] = 0.0\n",
    "\n",
    "# When Actual Returns are greater than or equal to 0, generate signal to buy stock long\n",
    "signals_df.loc[(signals_df['Actual Returns'] >= 0), 'Signal'] = 1\n",
    "\n",
    "# When Actual Returns are less than 0, generate signal to sell stock short\n",
    "signals_df.loc[(signals_df['Actual Returns'] < 0), 'Signal'] = -1"
   ]
  },
  {
   "cell_type": "code",
   "execution_count": 33,
   "id": "15290187",
   "metadata": {},
   "outputs": [
    {
     "data": {
      "text/plain": [
       " 1.0    176\n",
       "-1.0    160\n",
       "Name: Signal, dtype: int64"
      ]
     },
     "execution_count": 33,
     "metadata": {},
     "output_type": "execute_result"
    }
   ],
   "source": [
    "signals_df['Signal'].value_counts()"
   ]
  },
  {
   "cell_type": "code",
   "execution_count": 34,
   "id": "e1e70de2",
   "metadata": {},
   "outputs": [],
   "source": [
    "signals_df['Strategy Returns'] = signals_df['Actual Returns'] * signals_df['Signal'].shift()"
   ]
  },
  {
   "cell_type": "code",
   "execution_count": 36,
   "id": "1d5dc99b",
   "metadata": {},
   "outputs": [
    {
     "data": {
      "text/plain": [
       "<AxesSubplot:xlabel='Date'>"
      ]
     },
     "execution_count": 36,
     "metadata": {},
     "output_type": "execute_result"
    },
    {
     "data": {
      "image/png": "[encoded data removed]",
      "text/plain": [
       "<Figure size 432x288 with 1 Axes>"
      ]
     },
     "metadata": {
      "needs_background": "light"
     },
     "output_type": "display_data"
    }
   ],
   "source": [
    "(1 + signals_df['Strategy Returns']).cumprod().plot()   ## plotted returns to make sure we are doing ok \n"
   ]
  },
  {
   "cell_type": "code",
   "execution_count": 37,
   "id": "9a39460e",
   "metadata": {},
   "outputs": [],
   "source": [
    "X = signals_df[['SMA_Fast', 'SMA_Slow']].shift().dropna()    ## adding the X for machine learning "
   ]
  },
  {
   "cell_type": "code",
   "execution_count": 38,
   "id": "fe6cdf4c",
   "metadata": {},
   "outputs": [
    {
     "data": {
      "text/plain": [
       " 1.0    176\n",
       "-1.0    160\n",
       "Name: Signal, dtype: int64"
      ]
     },
     "execution_count": 38,
     "metadata": {},
     "output_type": "execute_result"
    }
   ],
   "source": [
    "y = signals_df['Signal']\n",
    "\n",
    "# Review the value counts\n",
    "y.value_counts()"
   ]
  },
  {
   "cell_type": "code",
   "execution_count": 39,
   "id": "151e862b",
   "metadata": {},
   "outputs": [],
   "source": [
    "training_begin = X.index.min()"
   ]
  },
  {
   "cell_type": "code",
   "execution_count": 40,
   "id": "8eee66ad",
   "metadata": {},
   "outputs": [],
   "source": [
    "training_end = X.index.min() + DateOffset(months=6) "
   ]
  },
  {
   "cell_type": "code",
   "execution_count": 41,
   "id": "e1a3f79f",
   "metadata": {},
   "outputs": [],
   "source": [
    "X_train = X.loc[training_begin:training_end]\n",
    "y_train = y.loc[training_begin:training_end]"
   ]
  },
  {
   "cell_type": "code",
   "execution_count": 42,
   "id": "6b6ddfcb",
   "metadata": {},
   "outputs": [],
   "source": [
    "X_test = X.loc[training_end+DateOffset(hours=1):]\n",
    "y_test = y.loc[training_end+DateOffset(hours=1):]"
   ]
  },
  {
   "cell_type": "code",
   "execution_count": 43,
   "id": "5a56d728",
   "metadata": {},
   "outputs": [],
   "source": [
    "scaler = StandardScaler()   ## Scaling the data \n",
    "\n",
    "\n",
    "X_scaler = scaler.fit(X_train)\n",
    "\n",
    "\n",
    "X_train_scaled = X_scaler.transform(X_train)\n",
    "X_test_scaled = X_scaler.transform(X_test)"
   ]
  },
  {
   "cell_type": "code",
   "execution_count": 44,
   "id": "53d80820",
   "metadata": {},
   "outputs": [
    {
     "data": {
      "text/plain": [
       "array([1., 1., 1., 1., 1., 1., 1., 1., 1., 1.])"
      ]
     },
     "execution_count": 44,
     "metadata": {},
     "output_type": "execute_result"
    }
   ],
   "source": [
    "svm_model = svm.SVC()\n",
    " \n",
    "# Fit the model to the data using the training data\n",
    "svm_model = svm_model.fit(X_train_scaled, y_train)\n",
    " \n",
    "# Use the testing data to make the model predictions\n",
    "svm_pred = svm_model.predict(X_train_scaled)\n",
    "\n",
    "# Review the model's predicted values\n",
    "svm_pred[:10]"
   ]
  },
  {
   "cell_type": "code",
   "execution_count": 45,
   "id": "ac9f9f09",
   "metadata": {},
   "outputs": [
    {
     "name": "stdout",
     "output_type": "stream",
     "text": [
      "              precision    recall  f1-score   support\n",
      "\n",
      "        -1.0       0.53      0.53      0.53        90\n",
      "         1.0       0.54      0.54      0.54        93\n",
      "\n",
      "    accuracy                           0.54       183\n",
      "   macro avg       0.54      0.54      0.54       183\n",
      "weighted avg       0.54      0.54      0.54       183\n",
      "\n"
     ]
    }
   ],
   "source": [
    "svm_testing_report = classification_report(y_train, svm_pred)\n",
    "\n",
    "# Print the classification report\n",
    "print(svm_testing_report)"
   ]
  },
  {
   "cell_type": "code",
   "execution_count": 48,
   "id": "461776b2",
   "metadata": {},
   "outputs": [],
   "source": [
    "# Create a predictions DataFrame \n",
    "predictions_df =  pd.DataFrame(index=X_train.index)        ## used the index from X_train as the values were not matching up with X_test and we are just looking to match the index\n",
    "\n",
    "# Add the SVM model predictions to the DataFrame\n",
    "predictions_df['Predicted'] = svm_pred\n",
    "\n",
    "# Add the actual returns to the DataFrame\n",
    "predictions_df['Actual Returns'] = signals_df['Strategy Returns']\n",
    "\n",
    "# Add the strategy returns to the DataFrame\n",
    "predictions_df['Strategy Returns'] = signals_df['Actual Returns']"
   ]
  },
  {
   "cell_type": "code",
   "execution_count": 49,
   "id": "891ccb69",
   "metadata": {},
   "outputs": [
    {
     "data": {
      "text/plain": [
       "<AxesSubplot:xlabel='Date'>"
      ]
     },
     "execution_count": 49,
     "metadata": {},
     "output_type": "execute_result"
    },
    {
     "data": {
      "image/png": "[encoded data removed]",
      "text/plain": [
       "<Figure size 432x288 with 1 Axes>"
      ]
     },
     "metadata": {
      "needs_background": "light"
     },
     "output_type": "display_data"
    }
   ],
   "source": [
    "(1 + predictions_df[[\"Actual Returns\", \"Strategy Returns\"]]).cumprod().plot()"
   ]
  },
  {
   "cell_type": "code",
   "execution_count": null,
   "id": "29ad4d7b",
   "metadata": {},
   "outputs": [],
   "source": []
  }
 ],
 "metadata": {
  "kernelspec": {
   "display_name": "dev",
   "language": "python",
   "name": "dev"
  },
  "language_info": {
   "codemirror_mode": {
    "name": "ipython",
    "version": 3
   },
   "file_extension": ".py",
   "mimetype": "text/x-python",
   "name": "python",
   "nbconvert_exporter": "python",
   "pygments_lexer": "ipython3",
   "version": "3.7.10"
  }
 },
 "nbformat": 4,
 "nbformat_minor": 5
}
