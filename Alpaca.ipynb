{
 "cells": [
  {
   "cell_type": "code",
   "execution_count": 1,
   "id": "d77f344d",
   "metadata": {},
   "outputs": [],
   "source": [
    "# Import the required libraries and dependencies\n",
    "import os\n",
    "import requests\n",
    "import pandas as pd\n",
    "from dotenv import load_dotenv\n",
    "import alpaca_trade_api as tradeapi\n",
    "%matplotlib inline"
   ]
  },
  {
   "cell_type": "code",
   "execution_count": 2,
   "id": "4e705b73",
   "metadata": {},
   "outputs": [
    {
     "data": {
      "text/plain": [
       "str"
      ]
     },
     "metadata": {},
     "output_type": "display_data"
    },
    {
     "data": {
      "text/plain": [
       "str"
      ]
     },
     "metadata": {},
     "output_type": "display_data"
    }
   ],
   "source": [
    "# Load the environment variables by calling the load_dotenv function\n",
    "load_dotenv()\n",
    "# Set Alpaca API key and secret by calling the os.getenv function and referencing the environment variable names\n",
    "# Set each environment variable to a notebook variable of the same name\n",
    "alpaca_api_key = os.getenv(\"ALPACA_API_KEY\")\n",
    "alpaca_secret_key = os.getenv(\"ALPACA_SECRET_KEY\")\n",
    "\n",
    "# Check the values were imported correctly by evaluating the type of each\n",
    "display(type(alpaca_api_key))\n",
    "display(type(alpaca_secret_key))\n",
    "\n",
    "# Create your Alpaca API REST object by calling Alpaca's tradeapi.REST function\n",
    "# Set the parameters to your alpaca_api_key, alpaca_secret_key and api_version=\"v2\"\n",
    "alpaca = tradeapi.REST(\n",
    "    alpaca_api_key,\n",
    "    alpaca_secret_key,\n",
    "    api_version=\"v2\")"
   ]
  },
  {
   "cell_type": "code",
   "execution_count": 3,
   "id": "7a109402",
   "metadata": {},
   "outputs": [],
   "source": [
    "# Set the tickers\n",
    "ticker = [\"SPY\"]\n",
    "#set start and end dates\n",
    "start_date = pd.Timestamp(\"2020-11-22\", tz=\"America/New_York\").isoformat()\n",
    "end_date = pd.Timestamp(\"2021-11-22\", tz=\"America/New_York\").isoformat()\n",
    "# Set timeframe to one day (1D) for the Alpaca API\n",
    "timeframe = \"1D\"\n",
    "# Set number of rows to 1000 to retrieve the maximum amount of rows\n",
    "limit_rows = 1000"
   ]
  },
  {
   "cell_type": "code",
   "execution_count": 4,
   "id": "5dab8a36",
   "metadata": {},
   "outputs": [
    {
     "data": {
      "text/html": [
       "<div>\n",
       "<style scoped>\n",
       "    .dataframe tbody tr th:only-of-type {\n",
       "        vertical-align: middle;\n",
       "    }\n",
       "\n",
       "    .dataframe tbody tr th {\n",
       "        vertical-align: top;\n",
       "    }\n",
       "\n",
       "    .dataframe thead tr th {\n",
       "        text-align: left;\n",
       "    }\n",
       "\n",
       "    .dataframe thead tr:last-of-type th {\n",
       "        text-align: right;\n",
       "    }\n",
       "</style>\n",
       "<table border=\"1\" class=\"dataframe\">\n",
       "  <thead>\n",
       "    <tr>\n",
       "      <th></th>\n",
       "      <th colspan=\"5\" halign=\"left\">SPY</th>\n",
       "    </tr>\n",
       "    <tr>\n",
       "      <th></th>\n",
       "      <th>open</th>\n",
       "      <th>high</th>\n",
       "      <th>low</th>\n",
       "      <th>close</th>\n",
       "      <th>volume</th>\n",
       "    </tr>\n",
       "    <tr>\n",
       "      <th>time</th>\n",
       "      <th></th>\n",
       "      <th></th>\n",
       "      <th></th>\n",
       "      <th></th>\n",
       "      <th></th>\n",
       "    </tr>\n",
       "  </thead>\n",
       "  <tbody>\n",
       "    <tr>\n",
       "      <th>2020-11-23 00:00:00-05:00</th>\n",
       "      <td>357.28</td>\n",
       "      <td>358.790</td>\n",
       "      <td>354.865</td>\n",
       "      <td>357.47</td>\n",
       "      <td>49938331</td>\n",
       "    </tr>\n",
       "    <tr>\n",
       "      <th>2020-11-24 00:00:00-05:00</th>\n",
       "      <td>360.21</td>\n",
       "      <td>363.805</td>\n",
       "      <td>359.290</td>\n",
       "      <td>363.19</td>\n",
       "      <td>49862168</td>\n",
       "    </tr>\n",
       "    <tr>\n",
       "      <th>2020-11-25 00:00:00-05:00</th>\n",
       "      <td>363.13</td>\n",
       "      <td>363.160</td>\n",
       "      <td>361.480</td>\n",
       "      <td>362.65</td>\n",
       "      <td>35309156</td>\n",
       "    </tr>\n",
       "    <tr>\n",
       "      <th>2020-11-27 00:00:00-05:00</th>\n",
       "      <td>363.84</td>\n",
       "      <td>364.180</td>\n",
       "      <td>362.580</td>\n",
       "      <td>363.65</td>\n",
       "      <td>46840189</td>\n",
       "    </tr>\n",
       "    <tr>\n",
       "      <th>2020-11-30 00:00:00-05:00</th>\n",
       "      <td>362.83</td>\n",
       "      <td>363.120</td>\n",
       "      <td>359.170</td>\n",
       "      <td>362.00</td>\n",
       "      <td>67154075</td>\n",
       "    </tr>\n",
       "  </tbody>\n",
       "</table>\n",
       "</div>"
      ],
      "text/plain": [
       "                              SPY                                    \n",
       "                             open     high      low   close    volume\n",
       "time                                                                 \n",
       "2020-11-23 00:00:00-05:00  357.28  358.790  354.865  357.47  49938331\n",
       "2020-11-24 00:00:00-05:00  360.21  363.805  359.290  363.19  49862168\n",
       "2020-11-25 00:00:00-05:00  363.13  363.160  361.480  362.65  35309156\n",
       "2020-11-27 00:00:00-05:00  363.84  364.180  362.580  363.65  46840189\n",
       "2020-11-30 00:00:00-05:00  362.83  363.120  359.170  362.00  67154075"
      ]
     },
     "execution_count": 4,
     "metadata": {},
     "output_type": "execute_result"
    }
   ],
   "source": [
    "# Use the Alpaca get_barset function to gather the price information for each ticker\n",
    "ticker_df = alpaca.get_barset(\n",
    "    ticker,\n",
    "    timeframe,\n",
    "    start = start_date,\n",
    "    end = end_date,\n",
    "    limit = limit_rows\n",
    ").df\n",
    "ticker_df.head()\n"
   ]
  },
  {
   "cell_type": "code",
   "execution_count": null,
   "id": "b12e8aef",
   "metadata": {},
   "outputs": [],
   "source": []
  }
 ],
 "metadata": {
  "kernelspec": {
   "display_name": "dev",
   "language": "python",
   "name": "dev"
  },
  "language_info": {
   "codemirror_mode": {
    "name": "ipython",
    "version": 3
   },
   "file_extension": ".py",
   "mimetype": "text/x-python",
   "name": "python",
   "nbconvert_exporter": "python",
   "pygments_lexer": "ipython3",
   "version": "3.7.10"
  }
 },
 "nbformat": 4,
 "nbformat_minor": 5
}
